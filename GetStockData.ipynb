{
 "cells": [
  {
   "cell_type": "code",
   "execution_count": 15,
   "id": "earned-increase",
   "metadata": {},
   "outputs": [
    {
     "name": "stdout",
     "output_type": "stream",
     "text": [
      "FB daily\n",
      "             1. open  2. high    3. low  4. close   5. volume\n",
      "date                                                         \n",
      "2021-01-27  282.5300   283.45  268.1201    272.14  35346194.0\n",
      "2021-01-26  278.1398   285.39  277.8100    282.05  19373636.0\n",
      "2021-01-25  278.1400   280.10  271.5100    278.01  19086990.0\n",
      "2021-01-22  272.0100   278.47  272.0000    274.50  21954042.0\n",
      "2021-01-21  269.2600   273.60  267.4901    272.87  20838687.0\n",
      "2021-01-20  268.9300   270.32  263.6000    267.48  25199919.0\n",
      "2021-01-19  256.9000   262.20  252.7201    261.10  28028546.0\n",
      "2021-01-15  247.9000   253.86  247.1600    251.36  24942930.0\n",
      "2021-01-14  253.4000   255.03  244.6100    245.64  29739404.0\n",
      "2021-01-13  251.5500   253.95  249.2000    251.64  19528938.0\n"
     ]
    }
   ],
   "source": [
    "company = 'FB'\n",
    "freq = 'daily'\n",
    "path = company + \"_\" + freq + \".csv\"\n",
    "!python3 save_data_to_csv.py $company $freq"
   ]
  },
  {
   "cell_type": "code",
   "execution_count": null,
   "id": "improved-registration",
   "metadata": {},
   "outputs": [
    {
     "name": "stdout",
     "output_type": "stream",
     "text": [
      "2021-01-28 10:01:31.162585: W tensorflow/stream_executor/platform/default/dso_loader.cc:60] Could not load dynamic library 'libcudart.so.11.0'; dlerror: libcudart.so.11.0: cannot open shared object file: No such file or directory\n",
      "2021-01-28 10:01:31.162654: I tensorflow/stream_executor/cuda/cudart_stub.cc:29] Ignore above cudart dlerror if you do not have a GPU set up on your machine.\n",
      "(1922, 50, 5)\n",
      "(214, 50, 5)\n",
      "2021-01-28 10:01:33.667395: I tensorflow/compiler/jit/xla_cpu_device.cc:41] Not creating XLA devices, tf_xla_enable_xla_devices not set\n",
      "2021-01-28 10:01:33.667699: W tensorflow/stream_executor/platform/default/dso_loader.cc:60] Could not load dynamic library 'libcuda.so.1'; dlerror: libcuda.so.1: cannot open shared object file: No such file or directory\n",
      "2021-01-28 10:01:33.667761: W tensorflow/stream_executor/cuda/cuda_driver.cc:326] failed call to cuInit: UNKNOWN ERROR (303)\n",
      "2021-01-28 10:01:33.667809: I tensorflow/stream_executor/cuda/cuda_diagnostics.cc:156] kernel driver does not appear to be running on this host (968c9867bf65): /proc/driver/nvidia/version does not exist\n",
      "2021-01-28 10:01:33.668260: I tensorflow/core/platform/cpu_feature_guard.cc:142] This TensorFlow binary is optimized with oneAPI Deep Neural Network Library (oneDNN) to use the following CPU instructions in performance-critical operations:  AVX2 FMA\n",
      "To enable them in other operations, rebuild TensorFlow with the appropriate compiler flags.\n",
      "2021-01-28 10:01:33.668905: I tensorflow/compiler/jit/xla_gpu_device.cc:99] Not creating XLA devices, tf_xla_enable_xla_devices not set\n",
      "2021-01-28 10:01:34.012394: I tensorflow/compiler/mlir/mlir_graph_optimization_pass.cc:116] None of the MLIR optimization passes are enabled (registered 2)\n",
      "2021-01-28 10:01:34.013399: I tensorflow/core/platform/profile_utils/cpu_utils.cc:112] CPU Frequency: 2193000000 Hz\n",
      "Epoch 1/50\n",
      "55/55 [==============================] - 4s 46ms/step - loss: 0.0330 - val_loss: 0.0030\n",
      "Epoch 2/50\n",
      "55/55 [==============================] - 2s 32ms/step - loss: 0.0028 - val_loss: 0.0050\n",
      "Epoch 3/50\n",
      "55/55 [==============================] - 2s 31ms/step - loss: 0.0020 - val_loss: 0.0059\n",
      "Epoch 4/50\n",
      "55/55 [==============================] - 2s 33ms/step - loss: 0.0029 - val_loss: 0.0018\n",
      "Epoch 5/50\n",
      "55/55 [==============================] - 2s 34ms/step - loss: 0.0028 - val_loss: 0.0016\n",
      "Epoch 6/50\n",
      "55/55 [==============================] - 2s 45ms/step - loss: 0.0017 - val_loss: 0.0018\n",
      "Epoch 7/50\n",
      "55/55 [==============================] - 2s 34ms/step - loss: 0.0014 - val_loss: 0.0016\n",
      "Epoch 8/50\n",
      "55/55 [==============================] - 2s 32ms/step - loss: 0.0012 - val_loss: 0.0012\n",
      "Epoch 9/50\n",
      "55/55 [==============================] - 2s 32ms/step - loss: 9.9377e-04 - val_loss: 0.0012\n",
      "Epoch 10/50\n",
      "55/55 [==============================] - 2s 32ms/step - loss: 0.0010 - val_loss: 7.3048e-04\n",
      "Epoch 11/50\n",
      "55/55 [==============================] - 2s 31ms/step - loss: 0.0011 - val_loss: 7.8244e-04\n",
      "Epoch 12/50\n",
      "55/55 [==============================] - 2s 33ms/step - loss: 0.0011 - val_loss: 5.2335e-04\n",
      "Epoch 13/50\n",
      "55/55 [==============================] - 2s 32ms/step - loss: 9.4227e-04 - val_loss: 4.1256e-04\n",
      "Epoch 14/50\n",
      "55/55 [==============================] - 2s 32ms/step - loss: 8.9406e-04 - val_loss: 4.3994e-04\n",
      "Epoch 15/50\n",
      "55/55 [==============================] - 2s 35ms/step - loss: 9.9011e-04 - val_loss: 3.3695e-04\n",
      "Epoch 16/50\n",
      "55/55 [==============================] - 2s 31ms/step - loss: 0.0011 - val_loss: 3.0230e-04\n",
      "Epoch 17/50\n",
      "55/55 [==============================] - 2s 31ms/step - loss: 8.3866e-04 - val_loss: 6.7215e-04\n",
      "Epoch 18/50\n",
      "55/55 [==============================] - 2s 32ms/step - loss: 7.9610e-04 - val_loss: 3.2140e-04\n",
      "Epoch 19/50\n",
      "55/55 [==============================] - 2s 31ms/step - loss: 7.3307e-04 - val_loss: 5.2898e-04\n",
      "Epoch 20/50\n",
      "55/55 [==============================] - 2s 33ms/step - loss: 0.0010 - val_loss: 4.4976e-04\n",
      "Epoch 21/50\n",
      "55/55 [==============================] - 2s 32ms/step - loss: 7.7999e-04 - val_loss: 3.8863e-04\n",
      "Epoch 22/50\n",
      "55/55 [==============================] - 2s 35ms/step - loss: 8.6523e-04 - val_loss: 8.8977e-04\n",
      "Epoch 23/50\n",
      "55/55 [==============================] - 2s 32ms/step - loss: 6.5642e-04 - val_loss: 3.0940e-04\n",
      "Epoch 24/50\n",
      "55/55 [==============================] - 2s 37ms/step - loss: 7.7051e-04 - val_loss: 1.0525e-04\n",
      "Epoch 25/50\n",
      "44/55 [=======================>......] - ETA: 0s - loss: 8.9790e-04"
     ]
    }
   ],
   "source": [
    "!python3 tech_ind_model.py $company $freq"
   ]
  },
  {
   "cell_type": "code",
   "execution_count": null,
   "id": "coupled-radio",
   "metadata": {},
   "outputs": [],
   "source": [
    "import numpy as np\n",
    "from keras.models import load_model\n",
    "from util import csv_to_dataset, history_points\n",
    "\n",
    "model = load_model('technical_model' + company + \"_\" + freq + '.h5')\n",
    "\n",
    "ohlcv_histories, technical_indicators, next_day_open_values, unscaled_y, y_normaliser = csv_to_dataset(path)\n",
    "\n",
    "test_split = 0.9\n",
    "n = int(ohlcv_histories.shape[0] * test_split)\n",
    "\n",
    "ohlcv_train = ohlcv_histories[:n]\n",
    "tech_ind_train = technical_indicators[:n]\n",
    "y_train = next_day_open_values[:n]\n",
    "\n",
    "ohlcv_test = ohlcv_histories[n:]\n",
    "tech_ind_test = technical_indicators[n:]\n",
    "y_test = next_day_open_values[n:]\n",
    "\n",
    "unscaled_y_test = unscaled_y[n:]\n",
    "\n",
    "y_test_predicted = model.predict([ohlcv_test, tech_ind_test])\n",
    "y_test_predicted = y_normaliser.inverse_transform(y_test_predicted)\n",
    "\n",
    "buys = []\n",
    "sells = []\n",
    "thresh = 0.1\n",
    "\n",
    "start = 0\n",
    "end = -1\n",
    "\n",
    "x = -1"
   ]
  },
  {
   "cell_type": "code",
   "execution_count": null,
   "id": "alternative-wagner",
   "metadata": {},
   "outputs": [],
   "source": [
    "import pandas as pd\n",
    "from yfinance import yfinance as yf\n",
    "msft = yf.Ticker(\"FB\")\n",
    "# get stock info\n",
    "msft.info\n",
    "# get historical market data\n",
    "hist = msft.history(period=\"max\")\n",
    "hist['Close'].plot(y=\"Close\", use_index=True)\n",
    "\n",
    "\n",
    "\n",
    "\n",
    "data = pd.read_csv(path)['date'].tolist()\n",
    "dates = data[0:len(unscaled_y_test[start:end])]\n",
    "dates.reverse()\n",
    "dataframe = {'Date': dates,\n",
    "        'Real': [x[0] for x in unscaled_y_test[start:end].tolist()],\n",
    "        'Predicted': [x[0] for x in y_test_predicted[start:end].tolist()]}\n",
    "df = pd.DataFrame(dataframe, columns=['Date', 'Real', 'Predicted'])\n",
    "df.plot(x ='Date', y=['Real', 'Predicted'], kind = 'line')"
   ]
  },
  {
   "cell_type": "code",
   "execution_count": null,
   "id": "neither-mandate",
   "metadata": {},
   "outputs": [],
   "source": [
    "import matplotlib.pyplot as plt\n",
    "\n",
    "plt.gcf().set_size_inches(22, 15, forward=True)\n",
    "\n",
    "real = plt.plot(unscaled_y_test[start:end], label='real')\n",
    "pred = plt.plot(y_test_predicted[start:end], label='predicted')\n",
    "\n",
    "plt.legend(['Real', 'Predicted'])\n",
    "\n",
    "plt.show()"
   ]
  },
  {
   "cell_type": "code",
   "execution_count": null,
   "id": "approved-batch",
   "metadata": {},
   "outputs": [],
   "source": []
  }
 ],
 "metadata": {
  "kernelspec": {
   "display_name": "Python 3",
   "language": "python",
   "name": "python3"
  },
  "language_info": {
   "codemirror_mode": {
    "name": "ipython",
    "version": 3
   },
   "file_extension": ".py",
   "mimetype": "text/x-python",
   "name": "python",
   "nbconvert_exporter": "python",
   "pygments_lexer": "ipython3",
   "version": "3.8.5"
  }
 },
 "nbformat": 4,
 "nbformat_minor": 5
}
